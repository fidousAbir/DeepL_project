{
  "nbformat": 4,
  "nbformat_minor": 0,
  "metadata": {
    "accelerator": "GPU",
    "colab": {
      "provenance": [],
      "include_colab_link": true
    },
    "kernelspec": {
      "display_name": "Python 3",
      "name": "python3"
    },
    "language_info": {
      "name": "python"
    }
  },
  "cells": [
    {
      "cell_type": "markdown",
      "metadata": {
        "id": "view-in-github",
        "colab_type": "text"
      },
      "source": [
        "<a href=\"https://colab.research.google.com/github/fidousAbir/DeepL_project/blob/main/projetdeep_detect_can.ipynb\" target=\"_parent\"><img src=\"https://colab.research.google.com/assets/colab-badge.svg\" alt=\"Open In Colab\"/></a>"
      ]
    },
    {
      "cell_type": "code",
      "metadata": {
        "colab": {
          "base_uri": "https://localhost:8080/"
        },
        "id": "YAVSbolZuB4i",
        "outputId": "cbd55844-8c3f-4223-d4b0-31504b3ff581"
      },
      "source": [
        "from google.colab import drive\n",
        "drive.mount('/content/drive')"
      ],
      "execution_count": null,
      "outputs": [
        {
          "output_type": "stream",
          "name": "stdout",
          "text": [
            "Mounted at /content/drive\n"
          ]
        }
      ]
    },
    {
      "cell_type": "code",
      "source": [],
      "metadata": {
        "id": "XeZ6ch5ct0uk"
      },
      "execution_count": null,
      "outputs": []
    },
    {
      "cell_type": "code",
      "metadata": {
        "id": "KWBDboOYuSrO"
      },
      "source": [
        "import os\n",
        "from tensorflow.keras.models import Sequential\n",
        "from keras.layers import Convolution2D\n",
        "from keras.layers import MaxPooling2D\n",
        "from keras.layers import Flatten\n",
        "from keras.layers import Dense\n",
        "import numpy as np\n",
        "import glob\n",
        "from sklearn.preprocessing import OneHotEncoder\n",
        "import matplotlib.pyplot as plt\n",
        "import matplotlib.image as mpimg\n",
        "from keras import losses\n",
        "from tensorflow.keras.utils import to_categorical\n",
        "from keras.preprocessing.image import ImageDataGenerator\n",
        "from keras.preprocessing.image import ImageDataGenerator\n",
        "from keras.preprocessing.image import img_to_array\n",
        "from keras.preprocessing.image import load_img\n",
        "from PIL import Image\n",
        "import cv2\n",
        "import matplotlib.pyplot as plt"
      ],
      "execution_count": null,
      "outputs": []
    },
    {
      "cell_type": "code",
      "metadata": {
        "colab": {
          "base_uri": "https://localhost:8080/"
        },
        "id": "Qt0pYWbYGVsC",
        "outputId": "f2188569-8cdc-4089-c488-63f207669a7c"
      },
      "source": [
        "!nvidia-smi"
      ],
      "execution_count": null,
      "outputs": [
        {
          "output_type": "stream",
          "name": "stdout",
          "text": [
            "Fri Dec  3 11:47:49 2021       \n",
            "+-----------------------------------------------------------------------------+\n",
            "| NVIDIA-SMI 495.44       Driver Version: 460.32.03    CUDA Version: 11.2     |\n",
            "|-------------------------------+----------------------+----------------------+\n",
            "| GPU  Name        Persistence-M| Bus-Id        Disp.A | Volatile Uncorr. ECC |\n",
            "| Fan  Temp  Perf  Pwr:Usage/Cap|         Memory-Usage | GPU-Util  Compute M. |\n",
            "|                               |                      |               MIG M. |\n",
            "|===============================+======================+======================|\n",
            "|   0  Tesla K80           Off  | 00000000:00:04.0 Off |                    0 |\n",
            "| N/A   69C    P8    33W / 149W |      0MiB / 11441MiB |      0%      Default |\n",
            "|                               |                      |                  N/A |\n",
            "+-------------------------------+----------------------+----------------------+\n",
            "                                                                               \n",
            "+-----------------------------------------------------------------------------+\n",
            "| Processes:                                                                  |\n",
            "|  GPU   GI   CI        PID   Type   Process name                  GPU Memory |\n",
            "|        ID   ID                                                   Usage      |\n",
            "|=============================================================================|\n",
            "|  No running processes found                                                 |\n",
            "+-----------------------------------------------------------------------------+\n"
          ]
        }
      ]
    },
    {
      "cell_type": "code",
      "metadata": {
        "colab": {
          "base_uri": "https://localhost:8080/"
        },
        "id": "2Bw-vu95GdBz",
        "outputId": "982e7955-359f-490f-8127-5241a842bc79"
      },
      "source": [
        "!pip install -U mxnet-cu101==1.7.0"
      ],
      "execution_count": null,
      "outputs": [
        {
          "output_type": "stream",
          "name": "stdout",
          "text": [
            "Collecting mxnet-cu101==1.7.0\n",
            "  Downloading mxnet_cu101-1.7.0-py2.py3-none-manylinux2014_x86_64.whl (846.0 MB)\n",
            "\u001b[K     |███████████████████████████████▌| 834.1 MB 1.4 MB/s eta 0:00:09tcmalloc: large alloc 1147494400 bytes == 0x56258c0b4000 @  0x7fb34ee33615 0x5625520114cc 0x5625520f147a 0x5625520142ed 0x562552105e1d 0x562552087e99 0x5625520829ee 0x562552015bda 0x562552087d00 0x5625520829ee 0x562552015bda 0x562552084737 0x562552106c66 0x562552083daf 0x562552106c66 0x562552083daf 0x562552106c66 0x562552083daf 0x562552016039 0x562552059409 0x562552014c52 0x562552087c25 0x5625520829ee 0x562552015bda 0x562552084737 0x5625520829ee 0x562552015bda 0x562552083915 0x562552015afa 0x562552083c0d 0x5625520829ee\n",
            "\u001b[K     |████████████████████████████████| 846.0 MB 21 kB/s \n",
            "\u001b[?25hRequirement already satisfied: numpy<2.0.0,>1.16.0 in /usr/local/lib/python3.7/dist-packages (from mxnet-cu101==1.7.0) (1.19.5)\n",
            "Requirement already satisfied: requests<3,>=2.20.0 in /usr/local/lib/python3.7/dist-packages (from mxnet-cu101==1.7.0) (2.23.0)\n",
            "Collecting graphviz<0.9.0,>=0.8.1\n",
            "  Downloading graphviz-0.8.4-py2.py3-none-any.whl (16 kB)\n",
            "Requirement already satisfied: urllib3!=1.25.0,!=1.25.1,<1.26,>=1.21.1 in /usr/local/lib/python3.7/dist-packages (from requests<3,>=2.20.0->mxnet-cu101==1.7.0) (1.24.3)\n",
            "Requirement already satisfied: idna<3,>=2.5 in /usr/local/lib/python3.7/dist-packages (from requests<3,>=2.20.0->mxnet-cu101==1.7.0) (2.10)\n",
            "Requirement already satisfied: chardet<4,>=3.0.2 in /usr/local/lib/python3.7/dist-packages (from requests<3,>=2.20.0->mxnet-cu101==1.7.0) (3.0.4)\n",
            "Requirement already satisfied: certifi>=2017.4.17 in /usr/local/lib/python3.7/dist-packages (from requests<3,>=2.20.0->mxnet-cu101==1.7.0) (2021.10.8)\n",
            "Installing collected packages: graphviz, mxnet-cu101\n",
            "  Attempting uninstall: graphviz\n",
            "    Found existing installation: graphviz 0.10.1\n",
            "    Uninstalling graphviz-0.10.1:\n",
            "      Successfully uninstalled graphviz-0.10.1\n",
            "Successfully installed graphviz-0.8.4 mxnet-cu101-1.7.0\n"
          ]
        }
      ]
    },
    {
      "cell_type": "code",
      "metadata": {
        "id": "7Q70bHX4uSuW"
      },
      "source": [
        "clahe = cv2.createCLAHE(clipLimit =4.0, tileGridSize=(5,5))"
      ],
      "execution_count": null,
      "outputs": []
    },
    {
      "cell_type": "code",
      "metadata": {
        "id": "y79VovtUuSx4"
      },
      "source": [
        "f = r'/content/drive/MyDrive/Benign_Masses'\n",
        "os.listdir(f)\n",
        "images1=[]\n",
        "for file in os.listdir(f):\n",
        "\n",
        "    f_img=f+\"/\"+file\n",
        "    img = Image.open(f_img)\n",
        "    img = img.resize((200,200))\n",
        "    img1=np.asarray(img)\n",
        "    cl_img = clahe.apply(img1)\n",
        "    images1.append(cl_img)\n",
        "\n",
        "\n"
      ],
      "execution_count": null,
      "outputs": []
    },
    {
      "cell_type": "code",
      "metadata": {
        "colab": {
          "base_uri": "https://localhost:8080/"
        },
        "id": "2KBonxyDuS2r",
        "outputId": "7c2e7fff-cddf-4e37-baff-2806c5586267"
      },
      "source": [
        "images1 = np.asarray(images1)\n",
        "images1.shape\n",
        "\n"
      ],
      "execution_count": null,
      "outputs": [
        {
          "output_type": "execute_result",
          "data": {
            "text/plain": [
              "(10866, 200, 200)"
            ]
          },
          "metadata": {},
          "execution_count": 9
        }
      ]
    },
    {
      "cell_type": "code",
      "metadata": {
        "colab": {
          "base_uri": "https://localhost:8080/",
          "height": 191
        },
        "id": "h6KjpDZpuS41",
        "outputId": "cf51e6ed-c287-43ac-fae0-1f7c75e662f5"
      },
      "source": [
        "plt.figure(figsize =(10, 10))\n",
        "for i in range(25):\n",
        "    plt.subplot(10, 10, i + 1)\n",
        "    plt.xticks([])\n",
        "    plt.yticks([])\n",
        "    plt.grid(False)\n",
        "    plt.imshow(images1[i], cmap = plt.cm.binary)\n",
        "plt.show()\n",
        "\n"
      ],
      "execution_count": null,
      "outputs": [
        {
          "output_type": "display_data",
          "data": {
            "image/png": "[encoded data removed]",
            "text/plain": [
              "<Figure size 720x720 with 25 Axes>"
            ]
          },
          "metadata": {}
        }
      ]
    },
    {
      "cell_type": "code",
      "metadata": {
        "id": "YAamRHz9u8FT"
      },
      "source": [
        "f = r'/content/drive/MyDrive/Malignant_Masses'\n",
        "os.listdir(f)\n",
        "images2=[]\n",
        "for file in os.listdir(f):\n",
        "\n",
        "    f_img=f+\"/\"+file\n",
        "    img = Image.open(f_img)\n",
        "    img = img.resize((200,200))\n",
        "    img12=np.asarray(img)\n",
        "    cl_img = clahe.apply(img12)\n",
        "    images2.append(cl_img)"
      ],
      "execution_count": null,
      "outputs": []
    },
    {
      "cell_type": "code",
      "metadata": {
        "colab": {
          "base_uri": "https://localhost:8080/"
        },
        "id": "_iNgowSwvF58",
        "outputId": "23a8ead6-4e4d-4b5e-af1f-6be2dd06ce61"
      },
      "source": [
        "images2 = np.asarray(images2)\n",
        "images2.shape\n"
      ],
      "execution_count": null,
      "outputs": [
        {
          "output_type": "execute_result",
          "data": {
            "text/plain": [
              "(13710, 200, 200)"
            ]
          },
          "metadata": {},
          "execution_count": 12
        }
      ]
    },
    {
      "cell_type": "code",
      "metadata": {
        "colab": {
          "base_uri": "https://localhost:8080/"
        },
        "id": "5Xu3LXnxvHqt",
        "outputId": "67450037-8f9a-4a96-81ec-87b9dd9956ce"
      },
      "source": [
        "benign_train_label = np.zeros(len(images2))\n",
        "benign_train_label.shape\n"
      ],
      "execution_count": null,
      "outputs": [
        {
          "output_type": "execute_result",
          "data": {
            "text/plain": [
              "(13710,)"
            ]
          },
          "metadata": {},
          "execution_count": 13
        }
      ]
    },
    {
      "cell_type": "code",
      "metadata": {
        "id": "dG6sw3GzvKl0"
      },
      "source": [
        "malign_train_label = np.ones(len(images1))"
      ],
      "execution_count": null,
      "outputs": []
    },
    {
      "cell_type": "code",
      "metadata": {
        "colab": {
          "base_uri": "https://localhost:8080/"
        },
        "id": "OG-PozwvvMZ0",
        "outputId": "91caf571-21b4-4a08-ddbd-bffafa34a3d2"
      },
      "source": [
        "images1 = np.asarray(images1)\n",
        "images1.shape\n",
        "\n",
        "images2.shape"
      ],
      "execution_count": null,
      "outputs": [
        {
          "output_type": "execute_result",
          "data": {
            "text/plain": [
              "(13710, 200, 200)"
            ]
          },
          "metadata": {},
          "execution_count": 15
        }
      ]
    },
    {
      "cell_type": "code",
      "metadata": {
        "colab": {
          "base_uri": "https://localhost:8080/"
        },
        "id": "MFr2_o6m7zo5",
        "outputId": "1cd13562-5599-4480-e3fa-a229c5df1b43"
      },
      "source": [
        "X_data = np.concatenate((images1, images2), axis = 0)\n",
        "X_data.shape\n",
        "Y_label = np.concatenate((benign_train_label, malign_train_label), axis = 0)\n",
        "Y_label.shape\n"
      ],
      "execution_count": null,
      "outputs": [
        {
          "output_type": "execute_result",
          "data": {
            "text/plain": [
              "(24576,)"
            ]
          },
          "metadata": {},
          "execution_count": 16
        }
      ]
    },
    {
      "cell_type": "code",
      "metadata": {
        "id": "cu_qv7Rt71xE"
      },
      "source": [
        "from sklearn.utils import shuffle\n",
        "X_data,Y_label, = shuffle(X_data, Y_label, random_state=0)\n",
        "\n"
      ],
      "execution_count": null,
      "outputs": []
    },
    {
      "cell_type": "code",
      "metadata": {
        "id": "dIuHiEa473rq"
      },
      "source": [
        "from sklearn.model_selection import train_test_split\n",
        "X_train, X_test, y_train, y_test = train_test_split(X_data,Y_label, test_size=0.33,random_state=0)\n",
        "x_train1=X_train.reshape(X_train.shape[0],X_train.shape[1],X_train.shape[2],1)\n",
        "x_test1=X_test.reshape(X_test.shape[0],X_test.shape[1],X_test.shape[2],1)\n",
        "\n"
      ],
      "execution_count": null,
      "outputs": []
    },
    {
      "cell_type": "code",
      "metadata": {
        "id": "xnO0-pmZ75jw"
      },
      "source": [
        "x_test1.shape\n",
        "y_train1=to_categorical(y_train)#il suffit d'avoir 15bit\n",
        "y_test1=to_categorical(y_test)\n",
        "y_test1.shape\n",
        "\n",
        "\n",
        "\n",
        "\n",
        "y_train1=to_categorical(y_train)#il suffit d'avoir 15bit\n",
        "y_test1=to_categorical(y_test)\n",
        "\n",
        "\n",
        "\n",
        "\n",
        "y_train2=y_train1[:,1:] #il suffit d'eliminer 1ere colonne innutile\n",
        "y_test2=y_test1[:,1:]\n",
        "\n",
        "\n",
        "\n"
      ],
      "execution_count": null,
      "outputs": []
    },
    {
      "cell_type": "code",
      "metadata": {
        "id": "b8sufUA278HD"
      },
      "source": [
        "classifier = Sequential()\n",
        "classifier.add(Convolution2D(filters = 32,kernel_size = 9,input_shape = (200,200,1),activation = 'relu'))\n",
        "classifier.add(MaxPooling2D(8,8))\n",
        "classifier.add(Flatten()) #Input Layer is ready\n",
        "\n",
        "\n",
        "\n",
        "classifier.add(Dense(activation= 'relu',units=200))\n",
        "classifier.add(Dense(activation= 'sigmoid',units=1))\n",
        "classifier.compile(optimizer='adam', loss='binary_crossentropy', metrics=['accuracy'])\n",
        "\n",
        "\n",
        "\n"
      ],
      "execution_count": null,
      "outputs": []
    },
    {
      "cell_type": "code",
      "metadata": {
        "colab": {
          "base_uri": "https://localhost:8080/"
        },
        "id": "ftD_VIL9V-1X",
        "outputId": "8a179fca-7ef0-49cf-fe8d-0fcf67725138"
      },
      "source": [
        "history=classifier.fit(x_train1, y_train2,batch_size=32,epochs=30,validation_data=(x_test1, y_test2),shuffle=True)\n"
      ],
      "execution_count": null,
      "outputs": [
        {
          "output_type": "stream",
          "name": "stdout",
          "text": [
            "Epoch 1/30\n",
            "515/515 [==============================] - 32s 43ms/step - loss: 2.5201 - accuracy: 0.6302 - val_loss: 0.6044 - val_accuracy: 0.6544\n",
            "Epoch 2/30\n",
            "515/515 [==============================] - 21s 41ms/step - loss: 0.5699 - accuracy: 0.6955 - val_loss: 0.5749 - val_accuracy: 0.6833\n",
            "Epoch 3/30\n",
            "515/515 [==============================] - 22s 43ms/step - loss: 0.5038 - accuracy: 0.7487 - val_loss: 0.5486 - val_accuracy: 0.7018\n",
            "Epoch 4/30\n",
            "515/515 [==============================] - 21s 41ms/step - loss: 0.4352 - accuracy: 0.7885 - val_loss: 0.5649 - val_accuracy: 0.7214\n",
            "Epoch 5/30\n",
            "515/515 [==============================] - 22s 43ms/step - loss: 0.3795 - accuracy: 0.8238 - val_loss: 0.5670 - val_accuracy: 0.7274\n",
            "Epoch 6/30\n",
            "515/515 [==============================] - 21s 41ms/step - loss: 0.3279 - accuracy: 0.8507 - val_loss: 0.6147 - val_accuracy: 0.7369\n",
            "Epoch 7/30\n",
            "515/515 [==============================] - 22s 43ms/step - loss: 0.2944 - accuracy: 0.8694 - val_loss: 0.6315 - val_accuracy: 0.7464\n",
            "Epoch 8/30\n",
            "515/515 [==============================] - 22s 43ms/step - loss: 0.2737 - accuracy: 0.8807 - val_loss: 0.6924 - val_accuracy: 0.7426\n",
            "Epoch 9/30\n",
            "515/515 [==============================] - 21s 41ms/step - loss: 0.2952 - accuracy: 0.8730 - val_loss: 0.7507 - val_accuracy: 0.7194\n",
            "Epoch 10/30\n",
            "515/515 [==============================] - 21s 41ms/step - loss: 0.3048 - accuracy: 0.8703 - val_loss: 0.6318 - val_accuracy: 0.7316\n",
            "Epoch 11/30\n",
            "515/515 [==============================] - 23s 44ms/step - loss: 0.2569 - accuracy: 0.8945 - val_loss: 0.6937 - val_accuracy: 0.7501\n",
            "Epoch 12/30\n",
            "515/515 [==============================] - 22s 43ms/step - loss: 0.2116 - accuracy: 0.9101 - val_loss: 0.7530 - val_accuracy: 0.7628\n",
            "Epoch 13/30\n",
            "515/515 [==============================] - 21s 41ms/step - loss: 0.1858 - accuracy: 0.9247 - val_loss: 0.7747 - val_accuracy: 0.7646\n",
            "Epoch 14/30\n",
            "515/515 [==============================] - 21s 41ms/step - loss: 0.2058 - accuracy: 0.9166 - val_loss: 0.8360 - val_accuracy: 0.7635\n",
            "Epoch 15/30\n",
            "515/515 [==============================] - 21s 41ms/step - loss: 0.1810 - accuracy: 0.9288 - val_loss: 0.8590 - val_accuracy: 0.7580\n",
            "Epoch 16/30\n",
            "515/515 [==============================] - 21s 41ms/step - loss: 0.1601 - accuracy: 0.9341 - val_loss: 0.8405 - val_accuracy: 0.7459\n",
            "Epoch 17/30\n",
            "515/515 [==============================] - 21s 41ms/step - loss: 0.1727 - accuracy: 0.9350 - val_loss: 0.9830 - val_accuracy: 0.7450\n",
            "Epoch 18/30\n",
            "515/515 [==============================] - 21s 41ms/step - loss: 0.1785 - accuracy: 0.9302 - val_loss: 0.9476 - val_accuracy: 0.7713\n",
            "Epoch 19/30\n",
            "515/515 [==============================] - 21s 41ms/step - loss: 0.1436 - accuracy: 0.9444 - val_loss: 0.9895 - val_accuracy: 0.7760\n",
            "Epoch 20/30\n",
            "515/515 [==============================] - 22s 43ms/step - loss: 0.1290 - accuracy: 0.9507 - val_loss: 1.0195 - val_accuracy: 0.7687\n",
            "Epoch 21/30\n",
            "515/515 [==============================] - 22s 43ms/step - loss: 0.1221 - accuracy: 0.9511 - val_loss: 1.0596 - val_accuracy: 0.7708\n",
            "Epoch 22/30\n",
            "515/515 [==============================] - 21s 41ms/step - loss: 0.1395 - accuracy: 0.9495 - val_loss: 1.0724 - val_accuracy: 0.7755\n",
            "Epoch 23/30\n",
            "515/515 [==============================] - 21s 41ms/step - loss: 0.1080 - accuracy: 0.9573 - val_loss: 1.0478 - val_accuracy: 0.7646\n",
            "Epoch 24/30\n",
            "515/515 [==============================] - 21s 40ms/step - loss: 0.1343 - accuracy: 0.9498 - val_loss: 1.0609 - val_accuracy: 0.7662\n",
            "Epoch 25/30\n",
            "515/515 [==============================] - 21s 41ms/step - loss: 0.1034 - accuracy: 0.9612 - val_loss: 1.2685 - val_accuracy: 0.7563\n",
            "Epoch 26/30\n",
            "515/515 [==============================] - 21s 41ms/step - loss: 0.1045 - accuracy: 0.9613 - val_loss: 1.1228 - val_accuracy: 0.7614\n",
            "Epoch 27/30\n",
            "515/515 [==============================] - 22s 43ms/step - loss: 0.0874 - accuracy: 0.9649 - val_loss: 1.2148 - val_accuracy: 0.7788\n",
            "Epoch 28/30\n",
            "515/515 [==============================] - 22s 43ms/step - loss: 0.0808 - accuracy: 0.9698 - val_loss: 1.2698 - val_accuracy: 0.7717\n",
            "Epoch 29/30\n",
            "515/515 [==============================] - 22s 43ms/step - loss: 0.1307 - accuracy: 0.9553 - val_loss: 1.3479 - val_accuracy: 0.7736\n",
            "Epoch 30/30\n",
            "515/515 [==============================] - 21s 41ms/step - loss: 0.0953 - accuracy: 0.9664 - val_loss: 1.2538 - val_accuracy: 0.7803\n"
          ]
        }
      ]
    },
    {
      "cell_type": "code",
      "metadata": {
        "colab": {
          "base_uri": "https://localhost:8080/",
          "height": 165
        },
        "id": "HYHPYV_0n3sj",
        "outputId": "0166ec1e-5ff7-4777-d779-8bb13bb8e6d3"
      },
      "source": [
        "classifier.save(\"my_h5_model.h5\")"
      ],
      "execution_count": null,
      "outputs": [
        {
          "ename": "NameError",
          "evalue": "ignored",
          "output_type": "error",
          "traceback": [
            "\u001b[0;31m---------------------------------------------------------------------------\u001b[0m",
            "\u001b[0;31mNameError\u001b[0m                                 Traceback (most recent call last)",
            "\u001b[0;32m<ipython-input-3-35a3e6dc84dc>\u001b[0m in \u001b[0;36m<module>\u001b[0;34m()\u001b[0m\n\u001b[0;32m----> 1\u001b[0;31m \u001b[0mclassifier\u001b[0m\u001b[0;34m.\u001b[0m\u001b[0msave\u001b[0m\u001b[0;34m(\u001b[0m\u001b[0;34m\"my_h5_model.h5\"\u001b[0m\u001b[0;34m)\u001b[0m\u001b[0;34m\u001b[0m\u001b[0;34m\u001b[0m\u001b[0m\n\u001b[0m",
            "\u001b[0;31mNameError\u001b[0m: name 'classifier' is not defined"
          ]
        }
      ]
    },
    {
      "cell_type": "code",
      "metadata": {
        "colab": {
          "base_uri": "https://localhost:8080/",
          "height": 282
        },
        "id": "SabCYBx0WGDt",
        "outputId": "b2a7051f-7048-48af-939e-71cf823a829c"
      },
      "source": [
        "import pandas as pd\n",
        "losses = pd.DataFrame(classifier.history.history)\n",
        "losses[['accuracy', 'val_accuracy']].plot()"
      ],
      "execution_count": null,
      "outputs": [
        {
          "output_type": "execute_result",
          "data": {
            "text/plain": [
              "<matplotlib.axes._subplots.AxesSubplot at 0x7fb6450f2fd0>"
            ]
          },
          "metadata": {},
          "execution_count": 22
        },
        {
          "output_type": "display_data",
          "data": {
            "image/png": "[encoded data removed]",
            "text/plain": [
              "<Figure size 432x288 with 1 Axes>"
            ]
          },
          "metadata": {
            "needs_background": "light"
          }
        }
      ]
    },
    {
      "cell_type": "code",
      "metadata": {
        "colab": {
          "base_uri": "https://localhost:8080/",
          "height": 282
        },
        "id": "ZMlmtTWVcMf1",
        "outputId": "01d8bd77-0024-442e-9353-9154dcdc7122"
      },
      "source": [
        "losses[['loss', 'val_loss']].plot()"
      ],
      "execution_count": null,
      "outputs": [
        {
          "output_type": "execute_result",
          "data": {
            "text/plain": [
              "<matplotlib.axes._subplots.AxesSubplot at 0x7fb6454f2550>"
            ]
          },
          "metadata": {},
          "execution_count": 23
        },
        {
          "output_type": "display_data",
          "data": {
            "image/png": "[encoded data removed]",
            "text/plain": [
              "<Figure size 432x288 with 1 Axes>"
            ]
          },
          "metadata": {
            "needs_background": "light"
          }
        }
      ]
    },
    {
      "cell_type": "code",
      "metadata": {
        "colab": {
          "base_uri": "https://localhost:8080/",
          "height": 200
        },
        "id": "VHgNJjtccPE7",
        "outputId": "576f1063-f6f5-4cbe-d56f-aa13fe7175e3"
      },
      "source": [
        "scores = classifier.evaluate(x_test1, y_test2, verbose=1)\n",
        "print('Test loss:', scores[0])\n",
        "print('Test accuracy:', scores[1])"
      ],
      "execution_count": null,
      "outputs": [
        {
          "ename": "NameError",
          "evalue": "ignored",
          "output_type": "error",
          "traceback": [
            "\u001b[0;31m---------------------------------------------------------------------------\u001b[0m",
            "\u001b[0;31mNameError\u001b[0m                                 Traceback (most recent call last)",
            "\u001b[0;32m<ipython-input-2-5bda93312097>\u001b[0m in \u001b[0;36m<module>\u001b[0;34m()\u001b[0m\n\u001b[0;32m----> 1\u001b[0;31m \u001b[0mscores\u001b[0m \u001b[0;34m=\u001b[0m \u001b[0mclassifier\u001b[0m\u001b[0;34m.\u001b[0m\u001b[0mevaluate\u001b[0m\u001b[0;34m(\u001b[0m\u001b[0mx_test1\u001b[0m\u001b[0;34m,\u001b[0m \u001b[0my_test2\u001b[0m\u001b[0;34m,\u001b[0m \u001b[0mverbose\u001b[0m\u001b[0;34m=\u001b[0m\u001b[0;36m1\u001b[0m\u001b[0;34m)\u001b[0m\u001b[0;34m\u001b[0m\u001b[0;34m\u001b[0m\u001b[0m\n\u001b[0m\u001b[1;32m      2\u001b[0m \u001b[0mprint\u001b[0m\u001b[0;34m(\u001b[0m\u001b[0;34m'Test loss:'\u001b[0m\u001b[0;34m,\u001b[0m \u001b[0mscores\u001b[0m\u001b[0;34m[\u001b[0m\u001b[0;36m0\u001b[0m\u001b[0;34m]\u001b[0m\u001b[0;34m)\u001b[0m\u001b[0;34m\u001b[0m\u001b[0;34m\u001b[0m\u001b[0m\n\u001b[1;32m      3\u001b[0m \u001b[0mprint\u001b[0m\u001b[0;34m(\u001b[0m\u001b[0;34m'Test accuracy:'\u001b[0m\u001b[0;34m,\u001b[0m \u001b[0mscores\u001b[0m\u001b[0;34m[\u001b[0m\u001b[0;36m1\u001b[0m\u001b[0;34m]\u001b[0m\u001b[0;34m)\u001b[0m\u001b[0;34m\u001b[0m\u001b[0;34m\u001b[0m\u001b[0m\n",
            "\u001b[0;31mNameError\u001b[0m: name 'classifier' is not defined"
          ]
        }
      ]
    },
    {
      "cell_type": "code",
      "metadata": {
        "colab": {
          "base_uri": "https://localhost:8080/"
        },
        "id": "vLBGITkoXiLK",
        "outputId": "78e355ba-abd3-4427-b5e1-837451f7c5bb"
      },
      "source": [
        "!pip install pyyaml h5py"
      ],
      "execution_count": null,
      "outputs": [
        {
          "output_type": "stream",
          "name": "stdout",
          "text": [
            "Requirement already satisfied: pyyaml in /usr/local/lib/python3.7/dist-packages (3.13)\n",
            "Requirement already satisfied: h5py in /usr/local/lib/python3.7/dist-packages (3.1.0)\n",
            "Requirement already satisfied: numpy>=1.14.5 in /usr/local/lib/python3.7/dist-packages (from h5py) (1.19.5)\n",
            "Requirement already satisfied: cached-property in /usr/local/lib/python3.7/dist-packages (from h5py) (1.5.2)\n"
          ]
        }
      ]
    },
    {
      "cell_type": "code",
      "metadata": {
        "id": "uK4No-t1X26l"
      },
      "source": [
        "!mkdir -p saved_model"
      ],
      "execution_count": null,
      "outputs": []
    },
    {
      "cell_type": "code",
      "metadata": {
        "colab": {
          "base_uri": "https://localhost:8080/"
        },
        "id": "SVTEFh4dX5Td",
        "outputId": "0af5dd07-0d61-42f6-da31-aaa8ef8fdf8a"
      },
      "source": [
        "classifier.save('saved_model/my_model')"
      ],
      "execution_count": null,
      "outputs": [
        {
          "output_type": "stream",
          "name": "stdout",
          "text": [
            "INFO:tensorflow:Assets written to: saved_model/my_model/assets\n"
          ]
        }
      ]
    },
    {
      "cell_type": "code",
      "metadata": {
        "colab": {
          "base_uri": "https://localhost:8080/"
        },
        "id": "SvZ-iS9RYBGx",
        "outputId": "ba74a4fe-b162-46cf-c9c2-bf155586ab69"
      },
      "source": [
        "!ls saved_model"
      ],
      "execution_count": null,
      "outputs": [
        {
          "output_type": "stream",
          "name": "stdout",
          "text": [
            "my_model\n"
          ]
        }
      ]
    },
    {
      "cell_type": "code",
      "metadata": {
        "colab": {
          "base_uri": "https://localhost:8080/"
        },
        "id": "zupN_O0PYCeT",
        "outputId": "13c89168-8f36-40f4-f07e-2b99153836c1"
      },
      "source": [
        "!ls saved_model/my_model"
      ],
      "execution_count": null,
      "outputs": [
        {
          "output_type": "stream",
          "name": "stdout",
          "text": [
            "assets\tkeras_metadata.pb  saved_model.pb  variables\n"
          ]
        }
      ]
    },
    {
      "cell_type": "code",
      "metadata": {
        "id": "jIEVMitimR6i",
        "outputId": "1f8a034d-6e09-490a-a348-3069d25079ab",
        "colab": {
          "base_uri": "https://localhost:8080/",
          "height": 235
        }
      },
      "source": [
        "t = time.time()\n",
        "\n",
        "export_path_keras = \"./{}.h5\".format(int(t))\n",
        "print(export_path_keras)\n",
        "\n",
        "model.save(export_path_keras)"
      ],
      "execution_count": null,
      "outputs": [
        {
          "output_type": "error",
          "ename": "NameError",
          "evalue": "ignored",
          "traceback": [
            "\u001b[0;31m---------------------------------------------------------------------------\u001b[0m",
            "\u001b[0;31mNameError\u001b[0m                                 Traceback (most recent call last)",
            "\u001b[0;32m<ipython-input-1-4dad10da0f50>\u001b[0m in \u001b[0;36m<module>\u001b[0;34m()\u001b[0m\n\u001b[0;32m----> 1\u001b[0;31m \u001b[0mt\u001b[0m \u001b[0;34m=\u001b[0m \u001b[0mtime\u001b[0m\u001b[0;34m.\u001b[0m\u001b[0mtime\u001b[0m\u001b[0;34m(\u001b[0m\u001b[0;34m)\u001b[0m\u001b[0;34m\u001b[0m\u001b[0;34m\u001b[0m\u001b[0m\n\u001b[0m\u001b[1;32m      2\u001b[0m \u001b[0;34m\u001b[0m\u001b[0m\n\u001b[1;32m      3\u001b[0m \u001b[0mexport_path_keras\u001b[0m \u001b[0;34m=\u001b[0m \u001b[0;34m\"./{}.h5\"\u001b[0m\u001b[0;34m.\u001b[0m\u001b[0mformat\u001b[0m\u001b[0;34m(\u001b[0m\u001b[0mint\u001b[0m\u001b[0;34m(\u001b[0m\u001b[0mt\u001b[0m\u001b[0;34m)\u001b[0m\u001b[0;34m)\u001b[0m\u001b[0;34m\u001b[0m\u001b[0;34m\u001b[0m\u001b[0m\n\u001b[1;32m      4\u001b[0m \u001b[0mprint\u001b[0m\u001b[0;34m(\u001b[0m\u001b[0mexport_path_keras\u001b[0m\u001b[0;34m)\u001b[0m\u001b[0;34m\u001b[0m\u001b[0;34m\u001b[0m\u001b[0m\n\u001b[1;32m      5\u001b[0m \u001b[0;34m\u001b[0m\u001b[0m\n",
            "\u001b[0;31mNameError\u001b[0m: name 'time' is not defined"
          ]
        }
      ]
    },
    {
      "cell_type": "code",
      "metadata": {
        "id": "tQidMgLEmSKn"
      },
      "source": [],
      "execution_count": null,
      "outputs": []
    }
  ]
}